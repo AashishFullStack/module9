{
  "nbformat": 4,
  "nbformat_minor": 0,
  "metadata": {
    "colab": {
      "provenance": []
    },
    "kernelspec": {
      "name": "python3",
      "display_name": "Python 3"
    },
    "language_info": {
      "name": "python"
    }
  },
  "cells": [
    {
      "cell_type": "markdown",
      "source": [
        "1. Describe the main differences between the CSS Flexbox layout model and the CSS Grid layout model. When would you choose to use one over the other?\n",
        "\n",
        "- Flexbox is a one-dimensional layout system, meaning it arranges items in a single row or column. It’s great for aligning items and distributing space within a container. Use Flexbox when you have a small number of items that need to be spaced, aligned, or wrapped — such as in navigation bars, toolbars, or list items.\n",
        "\n",
        "Grid, on the other hand, is two-dimensional. It allows you to control both rows and columns, making it ideal for more complex layouts like web page structures, image galleries, or dashboards. With Grid, you can precisely place items in cells and create responsive layouts with ease"
      ],
      "metadata": {
        "id": "XsR8KZohoUMr"
      }
    },
    {
      "cell_type": "markdown",
      "source": [
        "2.  Explain the role of the following key properties in the Flexbox layout mode?\n",
        "\n",
        "*   justify-content -  It controls the horizontal alignment (main axis) of flex items within the flex container.\n",
        "*   align-item -  It controls the vertical alignment (cross axis) of flex items within the flex container.\n",
        "*   gap - It defines the space between flex items without using margins.\n",
        "*   flex-direction - It sets the direction of the main axis (i.e., the flow of flex items).\n",
        "*   flex-wrap - It controls whether flex items wrap to the next line if they overflow the container"
      ],
      "metadata": {
        "id": "r_1UgBcrottq"
      }
    },
    {
      "cell_type": "markdown",
      "source": [
        "3. Write the code to center a div using CSS Flexbox."
      ],
      "metadata": {
        "id": "-QVNsyzsp2RT"
      }
    },
    {
      "cell_type": "code",
      "source": [
        "!DOCTYPE html>\n",
        "<html>\n",
        "    <head>\n",
        "        <style>\n",
        "            .Box1{\n",
        "                background-color: #00FF00;\n",
        "                width: 250px;\n",
        "                height: 250px;\n",
        "                margin: 100px;\n",
        "            }\n",
        "        </style>\n",
        "    </head>\n",
        "    <body>\n",
        "        <div class=\"div1\">\n",
        "            <div class=\"Box1\"> </div>\n",
        "        </div>\n",
        "    </body>\n",
        "</html>"
      ],
      "metadata": {
        "id": "rw4ic1bep6Aa"
      },
      "execution_count": null,
      "outputs": []
    },
    {
      "cell_type": "markdown",
      "source": [
        "4. . A client of yours wants to add a pricing section on their website to showcase their newly introduced\n",
        "premium plans.\n",
        "You have to build the pricing section for their business. They have provided you with the figma design for the same"
      ],
      "metadata": {
        "id": "-z-zWYAQqLxC"
      }
    },
    {
      "cell_type": "code",
      "source": [
        "<!DOCTYPE html>\n",
        "<html>\n",
        "    <head>\n",
        "        <meta http-equiv=\"content-type\" content=\"text/html; charset=utf-8\" />\n",
        "        <title>substitute(Filename('', 'Subscription'), '^.', '\\u&', '')</title>\n",
        "        <link rel=\"stylesheet\" href=\"https://cdnjs.cloudflare.com/ajax/libs/font-awesome/6.5.0/css/all.min.css\">\n",
        "        <style>\n",
        "        .body {\n",
        "            margin: 0;\n",
        "            height: 0;\n",
        "            font-family: sans-serif;\n",
        "        }\n",
        "\n",
        "        .section-top {\n",
        "            display: flex;\n",
        "            justify-content:space-around;\n",
        "            border: 0.5px solid black;\n",
        "            padding: 10px;\n",
        "            background-color: #E6E6FA;\n",
        "        }\n",
        "        .Box1 {\n",
        "            margin:20px;\n",
        "            padding: 40px;\n",
        "            border: 2px solid rgb(255, 255, 255);\n",
        "            width: 350px;\n",
        "            height: 290px;\n",
        "            border-radius: 8px;\n",
        "            gap: 32px;\n",
        "        }\n",
        "          .Box2 {\n",
        "            margin:20px;\n",
        "            padding: 40px;\n",
        "            border: 2px solid rgb(255, 255, 255);\n",
        "            width: 350px;\n",
        "            height: 290px;\n",
        "            border-radius: 8px;\n",
        "        }\n",
        "          .Box3 {\n",
        "            margin:20px;\n",
        "            padding: 40px;\n",
        "            border: 2px solid rgb(255, 255, 255);\n",
        "            width: 350px;\n",
        "            height: 290px;\n",
        "            border-radius: 8px;\n",
        "        }\n",
        "        #box-item1 {\n",
        "            background-color: white;\n",
        "            color: #1f3363;\n",
        "        }\n",
        "        #box-item2 {\n",
        "            background-color: #1f3363;\n",
        "            color: white;\n",
        "        }\n",
        "        #box-item3 {\n",
        "            background-color: white;\n",
        "            color: #1f3363;\n",
        "        }\n",
        "        ul {\n",
        "            list-style-type: none;\n",
        "            margin:0px ;\n",
        "            padding: 0px 20px 20px 0px;\n",
        "        }\n",
        "        .subscribe-btn1{\n",
        "            color: white;\n",
        "            background-color:#1f3363 ;\n",
        "            border-radius: 25px;\n",
        "            border: none;\n",
        "            text-align: center;\n",
        "            font-size: 14px;\n",
        "            padding: 8px 16px;\n",
        "            margin-left: 25px;\n",
        "        }\n",
        "        .subscribe-btn2{\n",
        "            color: #1f3363;\n",
        "            background-color: whitesmoke;\n",
        "            border-radius: 25px;\n",
        "            border: none;\n",
        "            text-align: center;\n",
        "            font-size: 14px;\n",
        "            padding: 8px 16px;\n",
        "            margin-left: 25px;\n",
        "        }\n",
        "        .subscribe-btn3{\n",
        "            color: whitesmoke ;\n",
        "            background-color: #1f3363;\n",
        "            border-radius: 25px;\n",
        "            border: none;\n",
        "            text-align: center;\n",
        "            font-size: 14px;\n",
        "            padding: 8px 16px;\n",
        "            margin-left: 25px;\n",
        "        }\n",
        "        button:hover{\n",
        "            cursor: pointer;\n",
        "        }\n",
        "        </style>\n",
        "    </head>\n",
        "    <body>\n",
        "        <section class=\"section-top\">\n",
        "            <div class=\"Box1\" id=\"box-item1\">\n",
        "                <h2> Free Plan </h2>\n",
        "                <p> For personal </p>\n",
        "                <h2> $0</h2>\n",
        "                <ul>\n",
        "                    <li> <i class=\"fas fa-check-circle\"></i> 1 users </li>\n",
        "                    <li> <i class=\"fas fa-check-circle\"></i> 4 web mails </li>\n",
        "                    <li> <i class=\"fas fa-check-circle\"></i> Responsive Website </li>\n",
        "                    <li> <i class=\"fas fa-check-circle\"></i> Free SSL </li>\n",
        "                </ul>\n",
        "                <button class=\"subscribe-btn1\"> Subscribe now </button>\n",
        "            </div>\n",
        "            <div class=\"Box2\" id=\"box-item2\">\n",
        "                <h2> Basic Plan </h2>\n",
        "                <p> For small business </p>\n",
        "                <h2> $29</h2>\n",
        "                <ul>\n",
        "                    <li> <i class=\"fas fa-check-circle\"></i> 4 users </li>\n",
        "                    <li> <i class=\"fas fa-check-circle\"></i> 10 web mails </li>\n",
        "                    <li> <i class=\"fas fa-check-circle\"></i> Responsive Website </li>\n",
        "                    <li> <i class=\"fas fa-check-circle\"></i> Free SSL </li>\n",
        "                </ul>\n",
        "                <button class=\"subscribe-btn2\"> Subscribe now </button>\n",
        "            </div>\n",
        "            <div class=\"Box3\" id=\"box-item3\">\n",
        "                <h2> Pro Plan </h2>\n",
        "                <p> For enterprise </p>\n",
        "                <h2> $49</h2>\n",
        "                <ul>\n",
        "                    <li> <i class=\"fas fa-check-circle\"></i> unlimited users </li>\n",
        "                    <li> <i class=\"fas fa-check-circle\"></i> unlimited Web mails </li>\n",
        "                    <li> <i class=\"fas fa-check-circle\"></i> Responsive Website </li>\n",
        "                    <li> <i class=\"fas fa-check-circle\"></i> Free SSL + SEO </li>\n",
        "                </ul>\n",
        "                <button class=\"subscribe-btn3\"> Subscribe now </button>\n",
        "            </div>\n",
        "        </section>\n",
        "    </body>\n",
        "</html>"
      ],
      "metadata": {
        "id": "1YB9wmuVqSES"
      },
      "execution_count": null,
      "outputs": []
    },
    {
      "cell_type": "markdown",
      "source": [
        "5.  build a clone of the IRCTC Ticket booking page.\n",
        "\n",
        "- Kindly give me the solution of this question because I have tried to build this site but in some part I got stuck"
      ],
      "metadata": {
        "id": "ISd0uZlwqavq"
      }
    },
    {
      "cell_type": "code",
      "execution_count": null,
      "metadata": {
        "id": "q4CsmmDEoOvu"
      },
      "outputs": [],
      "source": []
    }
  ]
}